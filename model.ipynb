{
  "nbformat": 4,
  "nbformat_minor": 0,
  "metadata": {
    "colab": {
      "provenance": []
    },
    "kernelspec": {
      "name": "python3",
      "display_name": "Python 3"
    },
    "language_info": {
      "name": "python"
    }
  },
  "cells": [
    {
      "cell_type": "code",
      "execution_count": 2,
      "metadata": {
        "id": "9N1oLy9p-FkQ"
      },
      "outputs": [],
      "source": [
        "import pandas as pd\n",
        "import numpy as np"
      ]
    },
    {
      "cell_type": "code",
      "source": [
        "df =pd.read_csv(\"/content/drive/MyDrive/ML Dataset/Practo/practo_cleandata.csv\")"
      ],
      "metadata": {
        "id": "ySd6IRQl-laI"
      },
      "execution_count": 3,
      "outputs": []
    },
    {
      "cell_type": "code",
      "source": [
        "df"
      ],
      "metadata": {
        "colab": {
          "base_uri": "https://localhost:8080/",
          "height": 884
        },
        "id": "i4G8rvK6-q1q",
        "outputId": "7231e9d3-8837-43fb-e096-2b0f2db5b0bc"
      },
      "execution_count": 4,
      "outputs": [
        {
          "output_type": "execute_result",
          "data": {
            "text/plain": [
              "                              Name  \\\n",
              "0               Dr. Sourabh Nagpal   \n",
              "1                 Dr. Meeka Gulati   \n",
              "2               Dr. Aparna Singhal   \n",
              "3                Dr. Prashant Ojha   \n",
              "4     Dr. Anukriti Bansal Aggarwal   \n",
              "...                            ...   \n",
              "5053                 Dr. Sreesha N   \n",
              "5054           Dr. Roshan Varghese   \n",
              "5055       Dr. Vinayak Raghunathan   \n",
              "5056                  Dr. Idris Md   \n",
              "5057           Dr. Prahlad Shenava   \n",
              "\n",
              "                                                 Degree Specialization  \\\n",
              "0     BDS, MDS - Prosthodontics, Fellowship and Dipl...        Dentist   \n",
              "1       BDS, MDS - Conservative Dentistry & Endodontics        Dentist   \n",
              "2                             BDS, MDS - Prosthodontics        Dentist   \n",
              "3     MDS - Periodontology and Oral Implantology, Ce...        Dentist   \n",
              "4                                                   BDS        Dentist   \n",
              "...                                                 ...            ...   \n",
              "5053                MBBS, MD - Obstetrics & Gynaecology        Dentist   \n",
              "5054  MBBS, DGO, DNB - Obstetrics & Gynecology, Dipl...        Dentist   \n",
              "5055                                          MBBS, DGO        Dentist   \n",
              "5056  MBBS, MS - Obstetrics & Gynaecology, DGO, DNB ...        Dentist   \n",
              "5057                MBBS, MD - Obstetrics & Gynaecology        Dentist   \n",
              "\n",
              "                       Experience             Location       City  \\\n",
              "0     17 years experience overall        Vasant Vihar,      Delhi   \n",
              "1     15 years experience overall           Janakpuri,      Delhi   \n",
              "2     14 years experience overall        Punjabi Bagh,      Delhi   \n",
              "3     16 years experience overall               Saket,      Delhi   \n",
              "4     10 years experience overall    Rohini Sector 18,      Delhi   \n",
              "...                           ...                  ...        ...   \n",
              "5053  18 years experience overall  Yelahanka New Town,  Bangalore   \n",
              "5054  14 years experience overall            Horamavu,  Bangalore   \n",
              "5055  14 years experience overall            JP Nagar,  Bangalore   \n",
              "5056  13 years experience overall   Jayanagar 5 Block,  Bangalore   \n",
              "5057  12 years experience overall          Whitefield,  Bangalore   \n",
              "\n",
              "     Recommendation             Feedback  Fees  \n",
              "0               99%  623 Patient Stories  ₹500  \n",
              "1               97%  108 Patient Stories  ₹500  \n",
              "2               98%   96 Patient Stories  ₹300  \n",
              "3               92%  104 Patient Stories  ₹300  \n",
              "4              100%   74 Patient Stories  ₹400  \n",
              "...             ...                  ...   ...  \n",
              "5053           100%   10 Patient Stories  ₹300  \n",
              "5054           100%   55 Patient Stories  ₹300  \n",
              "5055           100%  145 Patient Stories  ₹500  \n",
              "5056            99%  131 Patient Stories  ₹300  \n",
              "5057            98%   58 Patient Stories  ₹300  \n",
              "\n",
              "[5058 rows x 9 columns]"
            ],
            "text/html": [
              "\n",
              "  <div id=\"df-410f50ed-5d63-4989-aa32-5d5bb73705bf\">\n",
              "    <div class=\"colab-df-container\">\n",
              "      <div>\n",
              "<style scoped>\n",
              "    .dataframe tbody tr th:only-of-type {\n",
              "        vertical-align: middle;\n",
              "    }\n",
              "\n",
              "    .dataframe tbody tr th {\n",
              "        vertical-align: top;\n",
              "    }\n",
              "\n",
              "    .dataframe thead th {\n",
              "        text-align: right;\n",
              "    }\n",
              "</style>\n",
              "<table border=\"1\" class=\"dataframe\">\n",
              "  <thead>\n",
              "    <tr style=\"text-align: right;\">\n",
              "      <th></th>\n",
              "      <th>Name</th>\n",
              "      <th>Degree</th>\n",
              "      <th>Specialization</th>\n",
              "      <th>Experience</th>\n",
              "      <th>Location</th>\n",
              "      <th>City</th>\n",
              "      <th>Recommendation</th>\n",
              "      <th>Feedback</th>\n",
              "      <th>Fees</th>\n",
              "    </tr>\n",
              "  </thead>\n",
              "  <tbody>\n",
              "    <tr>\n",
              "      <th>0</th>\n",
              "      <td>Dr. Sourabh Nagpal</td>\n",
              "      <td>BDS, MDS - Prosthodontics, Fellowship and Dipl...</td>\n",
              "      <td>Dentist</td>\n",
              "      <td>17 years experience overall</td>\n",
              "      <td>Vasant Vihar,</td>\n",
              "      <td>Delhi</td>\n",
              "      <td>99%</td>\n",
              "      <td>623 Patient Stories</td>\n",
              "      <td>₹500</td>\n",
              "    </tr>\n",
              "    <tr>\n",
              "      <th>1</th>\n",
              "      <td>Dr. Meeka Gulati</td>\n",
              "      <td>BDS, MDS - Conservative Dentistry &amp; Endodontics</td>\n",
              "      <td>Dentist</td>\n",
              "      <td>15 years experience overall</td>\n",
              "      <td>Janakpuri,</td>\n",
              "      <td>Delhi</td>\n",
              "      <td>97%</td>\n",
              "      <td>108 Patient Stories</td>\n",
              "      <td>₹500</td>\n",
              "    </tr>\n",
              "    <tr>\n",
              "      <th>2</th>\n",
              "      <td>Dr. Aparna Singhal</td>\n",
              "      <td>BDS, MDS - Prosthodontics</td>\n",
              "      <td>Dentist</td>\n",
              "      <td>14 years experience overall</td>\n",
              "      <td>Punjabi Bagh,</td>\n",
              "      <td>Delhi</td>\n",
              "      <td>98%</td>\n",
              "      <td>96 Patient Stories</td>\n",
              "      <td>₹300</td>\n",
              "    </tr>\n",
              "    <tr>\n",
              "      <th>3</th>\n",
              "      <td>Dr. Prashant Ojha</td>\n",
              "      <td>MDS - Periodontology and Oral Implantology, Ce...</td>\n",
              "      <td>Dentist</td>\n",
              "      <td>16 years experience overall</td>\n",
              "      <td>Saket,</td>\n",
              "      <td>Delhi</td>\n",
              "      <td>92%</td>\n",
              "      <td>104 Patient Stories</td>\n",
              "      <td>₹300</td>\n",
              "    </tr>\n",
              "    <tr>\n",
              "      <th>4</th>\n",
              "      <td>Dr. Anukriti Bansal Aggarwal</td>\n",
              "      <td>BDS</td>\n",
              "      <td>Dentist</td>\n",
              "      <td>10 years experience overall</td>\n",
              "      <td>Rohini Sector 18,</td>\n",
              "      <td>Delhi</td>\n",
              "      <td>100%</td>\n",
              "      <td>74 Patient Stories</td>\n",
              "      <td>₹400</td>\n",
              "    </tr>\n",
              "    <tr>\n",
              "      <th>...</th>\n",
              "      <td>...</td>\n",
              "      <td>...</td>\n",
              "      <td>...</td>\n",
              "      <td>...</td>\n",
              "      <td>...</td>\n",
              "      <td>...</td>\n",
              "      <td>...</td>\n",
              "      <td>...</td>\n",
              "      <td>...</td>\n",
              "    </tr>\n",
              "    <tr>\n",
              "      <th>5053</th>\n",
              "      <td>Dr. Sreesha N</td>\n",
              "      <td>MBBS, MD - Obstetrics &amp; Gynaecology</td>\n",
              "      <td>Dentist</td>\n",
              "      <td>18 years experience overall</td>\n",
              "      <td>Yelahanka New Town,</td>\n",
              "      <td>Bangalore</td>\n",
              "      <td>100%</td>\n",
              "      <td>10 Patient Stories</td>\n",
              "      <td>₹300</td>\n",
              "    </tr>\n",
              "    <tr>\n",
              "      <th>5054</th>\n",
              "      <td>Dr. Roshan Varghese</td>\n",
              "      <td>MBBS, DGO, DNB - Obstetrics &amp; Gynecology, Dipl...</td>\n",
              "      <td>Dentist</td>\n",
              "      <td>14 years experience overall</td>\n",
              "      <td>Horamavu,</td>\n",
              "      <td>Bangalore</td>\n",
              "      <td>100%</td>\n",
              "      <td>55 Patient Stories</td>\n",
              "      <td>₹300</td>\n",
              "    </tr>\n",
              "    <tr>\n",
              "      <th>5055</th>\n",
              "      <td>Dr. Vinayak Raghunathan</td>\n",
              "      <td>MBBS, DGO</td>\n",
              "      <td>Dentist</td>\n",
              "      <td>14 years experience overall</td>\n",
              "      <td>JP Nagar,</td>\n",
              "      <td>Bangalore</td>\n",
              "      <td>100%</td>\n",
              "      <td>145 Patient Stories</td>\n",
              "      <td>₹500</td>\n",
              "    </tr>\n",
              "    <tr>\n",
              "      <th>5056</th>\n",
              "      <td>Dr. Idris Md</td>\n",
              "      <td>MBBS, MS - Obstetrics &amp; Gynaecology, DGO, DNB ...</td>\n",
              "      <td>Dentist</td>\n",
              "      <td>13 years experience overall</td>\n",
              "      <td>Jayanagar 5 Block,</td>\n",
              "      <td>Bangalore</td>\n",
              "      <td>99%</td>\n",
              "      <td>131 Patient Stories</td>\n",
              "      <td>₹300</td>\n",
              "    </tr>\n",
              "    <tr>\n",
              "      <th>5057</th>\n",
              "      <td>Dr. Prahlad Shenava</td>\n",
              "      <td>MBBS, MD - Obstetrics &amp; Gynaecology</td>\n",
              "      <td>Dentist</td>\n",
              "      <td>12 years experience overall</td>\n",
              "      <td>Whitefield,</td>\n",
              "      <td>Bangalore</td>\n",
              "      <td>98%</td>\n",
              "      <td>58 Patient Stories</td>\n",
              "      <td>₹300</td>\n",
              "    </tr>\n",
              "  </tbody>\n",
              "</table>\n",
              "<p>5058 rows × 9 columns</p>\n",
              "</div>\n",
              "      <button class=\"colab-df-convert\" onclick=\"convertToInteractive('df-410f50ed-5d63-4989-aa32-5d5bb73705bf')\"\n",
              "              title=\"Convert this dataframe to an interactive table.\"\n",
              "              style=\"display:none;\">\n",
              "        \n",
              "  <svg xmlns=\"http://www.w3.org/2000/svg\" height=\"24px\"viewBox=\"0 0 24 24\"\n",
              "       width=\"24px\">\n",
              "    <path d=\"M0 0h24v24H0V0z\" fill=\"none\"/>\n",
              "    <path d=\"M18.56 5.44l.94 2.06.94-2.06 2.06-.94-2.06-.94-.94-2.06-.94 2.06-2.06.94zm-11 1L8.5 8.5l.94-2.06 2.06-.94-2.06-.94L8.5 2.5l-.94 2.06-2.06.94zm10 10l.94 2.06.94-2.06 2.06-.94-2.06-.94-.94-2.06-.94 2.06-2.06.94z\"/><path d=\"M17.41 7.96l-1.37-1.37c-.4-.4-.92-.59-1.43-.59-.52 0-1.04.2-1.43.59L10.3 9.45l-7.72 7.72c-.78.78-.78 2.05 0 2.83L4 21.41c.39.39.9.59 1.41.59.51 0 1.02-.2 1.41-.59l7.78-7.78 2.81-2.81c.8-.78.8-2.07 0-2.86zM5.41 20L4 18.59l7.72-7.72 1.47 1.35L5.41 20z\"/>\n",
              "  </svg>\n",
              "      </button>\n",
              "      \n",
              "  <style>\n",
              "    .colab-df-container {\n",
              "      display:flex;\n",
              "      flex-wrap:wrap;\n",
              "      gap: 12px;\n",
              "    }\n",
              "\n",
              "    .colab-df-convert {\n",
              "      background-color: #E8F0FE;\n",
              "      border: none;\n",
              "      border-radius: 50%;\n",
              "      cursor: pointer;\n",
              "      display: none;\n",
              "      fill: #1967D2;\n",
              "      height: 32px;\n",
              "      padding: 0 0 0 0;\n",
              "      width: 32px;\n",
              "    }\n",
              "\n",
              "    .colab-df-convert:hover {\n",
              "      background-color: #E2EBFA;\n",
              "      box-shadow: 0px 1px 2px rgba(60, 64, 67, 0.3), 0px 1px 3px 1px rgba(60, 64, 67, 0.15);\n",
              "      fill: #174EA6;\n",
              "    }\n",
              "\n",
              "    [theme=dark] .colab-df-convert {\n",
              "      background-color: #3B4455;\n",
              "      fill: #D2E3FC;\n",
              "    }\n",
              "\n",
              "    [theme=dark] .colab-df-convert:hover {\n",
              "      background-color: #434B5C;\n",
              "      box-shadow: 0px 1px 3px 1px rgba(0, 0, 0, 0.15);\n",
              "      filter: drop-shadow(0px 1px 2px rgba(0, 0, 0, 0.3));\n",
              "      fill: #FFFFFF;\n",
              "    }\n",
              "  </style>\n",
              "\n",
              "      <script>\n",
              "        const buttonEl =\n",
              "          document.querySelector('#df-410f50ed-5d63-4989-aa32-5d5bb73705bf button.colab-df-convert');\n",
              "        buttonEl.style.display =\n",
              "          google.colab.kernel.accessAllowed ? 'block' : 'none';\n",
              "\n",
              "        async function convertToInteractive(key) {\n",
              "          const element = document.querySelector('#df-410f50ed-5d63-4989-aa32-5d5bb73705bf');\n",
              "          const dataTable =\n",
              "            await google.colab.kernel.invokeFunction('convertToInteractive',\n",
              "                                                     [key], {});\n",
              "          if (!dataTable) return;\n",
              "\n",
              "          const docLinkHtml = 'Like what you see? Visit the ' +\n",
              "            '<a target=\"_blank\" href=https://colab.research.google.com/notebooks/data_table.ipynb>data table notebook</a>'\n",
              "            + ' to learn more about interactive tables.';\n",
              "          element.innerHTML = '';\n",
              "          dataTable['output_type'] = 'display_data';\n",
              "          await google.colab.output.renderOutput(dataTable, element);\n",
              "          const docLink = document.createElement('div');\n",
              "          docLink.innerHTML = docLinkHtml;\n",
              "          element.appendChild(docLink);\n",
              "        }\n",
              "      </script>\n",
              "    </div>\n",
              "  </div>\n",
              "  "
            ]
          },
          "metadata": {},
          "execution_count": 4
        }
      ]
    },
    {
      "cell_type": "code",
      "source": [
        "df.drop(columns = \"Unnamed: 0\", inplace=True)"
      ],
      "metadata": {
        "id": "Uqcqp7ZT_E31"
      },
      "execution_count": null,
      "outputs": []
    },
    {
      "cell_type": "code",
      "source": [
        "df"
      ],
      "metadata": {
        "colab": {
          "base_uri": "https://localhost:8080/",
          "height": 884
        },
        "id": "N58RFG5cUMIL",
        "outputId": "85111364-a742-4bea-bdc4-b8d54ce0e2be"
      },
      "execution_count": 5,
      "outputs": [
        {
          "output_type": "execute_result",
          "data": {
            "text/plain": [
              "                              Name  \\\n",
              "0               Dr. Sourabh Nagpal   \n",
              "1                 Dr. Meeka Gulati   \n",
              "2               Dr. Aparna Singhal   \n",
              "3                Dr. Prashant Ojha   \n",
              "4     Dr. Anukriti Bansal Aggarwal   \n",
              "...                            ...   \n",
              "5053                 Dr. Sreesha N   \n",
              "5054           Dr. Roshan Varghese   \n",
              "5055       Dr. Vinayak Raghunathan   \n",
              "5056                  Dr. Idris Md   \n",
              "5057           Dr. Prahlad Shenava   \n",
              "\n",
              "                                                 Degree Specialization  \\\n",
              "0     BDS, MDS - Prosthodontics, Fellowship and Dipl...        Dentist   \n",
              "1       BDS, MDS - Conservative Dentistry & Endodontics        Dentist   \n",
              "2                             BDS, MDS - Prosthodontics        Dentist   \n",
              "3     MDS - Periodontology and Oral Implantology, Ce...        Dentist   \n",
              "4                                                   BDS        Dentist   \n",
              "...                                                 ...            ...   \n",
              "5053                MBBS, MD - Obstetrics & Gynaecology        Dentist   \n",
              "5054  MBBS, DGO, DNB - Obstetrics & Gynecology, Dipl...        Dentist   \n",
              "5055                                          MBBS, DGO        Dentist   \n",
              "5056  MBBS, MS - Obstetrics & Gynaecology, DGO, DNB ...        Dentist   \n",
              "5057                MBBS, MD - Obstetrics & Gynaecology        Dentist   \n",
              "\n",
              "                       Experience             Location       City  \\\n",
              "0     17 years experience overall        Vasant Vihar,      Delhi   \n",
              "1     15 years experience overall           Janakpuri,      Delhi   \n",
              "2     14 years experience overall        Punjabi Bagh,      Delhi   \n",
              "3     16 years experience overall               Saket,      Delhi   \n",
              "4     10 years experience overall    Rohini Sector 18,      Delhi   \n",
              "...                           ...                  ...        ...   \n",
              "5053  18 years experience overall  Yelahanka New Town,  Bangalore   \n",
              "5054  14 years experience overall            Horamavu,  Bangalore   \n",
              "5055  14 years experience overall            JP Nagar,  Bangalore   \n",
              "5056  13 years experience overall   Jayanagar 5 Block,  Bangalore   \n",
              "5057  12 years experience overall          Whitefield,  Bangalore   \n",
              "\n",
              "     Recommendation             Feedback  Fees  \n",
              "0               99%  623 Patient Stories  ₹500  \n",
              "1               97%  108 Patient Stories  ₹500  \n",
              "2               98%   96 Patient Stories  ₹300  \n",
              "3               92%  104 Patient Stories  ₹300  \n",
              "4              100%   74 Patient Stories  ₹400  \n",
              "...             ...                  ...   ...  \n",
              "5053           100%   10 Patient Stories  ₹300  \n",
              "5054           100%   55 Patient Stories  ₹300  \n",
              "5055           100%  145 Patient Stories  ₹500  \n",
              "5056            99%  131 Patient Stories  ₹300  \n",
              "5057            98%   58 Patient Stories  ₹300  \n",
              "\n",
              "[5058 rows x 9 columns]"
            ],
            "text/html": [
              "\n",
              "  <div id=\"df-63f2139c-4d46-428f-a162-e5f67bf1b74c\">\n",
              "    <div class=\"colab-df-container\">\n",
              "      <div>\n",
              "<style scoped>\n",
              "    .dataframe tbody tr th:only-of-type {\n",
              "        vertical-align: middle;\n",
              "    }\n",
              "\n",
              "    .dataframe tbody tr th {\n",
              "        vertical-align: top;\n",
              "    }\n",
              "\n",
              "    .dataframe thead th {\n",
              "        text-align: right;\n",
              "    }\n",
              "</style>\n",
              "<table border=\"1\" class=\"dataframe\">\n",
              "  <thead>\n",
              "    <tr style=\"text-align: right;\">\n",
              "      <th></th>\n",
              "      <th>Name</th>\n",
              "      <th>Degree</th>\n",
              "      <th>Specialization</th>\n",
              "      <th>Experience</th>\n",
              "      <th>Location</th>\n",
              "      <th>City</th>\n",
              "      <th>Recommendation</th>\n",
              "      <th>Feedback</th>\n",
              "      <th>Fees</th>\n",
              "    </tr>\n",
              "  </thead>\n",
              "  <tbody>\n",
              "    <tr>\n",
              "      <th>0</th>\n",
              "      <td>Dr. Sourabh Nagpal</td>\n",
              "      <td>BDS, MDS - Prosthodontics, Fellowship and Dipl...</td>\n",
              "      <td>Dentist</td>\n",
              "      <td>17 years experience overall</td>\n",
              "      <td>Vasant Vihar,</td>\n",
              "      <td>Delhi</td>\n",
              "      <td>99%</td>\n",
              "      <td>623 Patient Stories</td>\n",
              "      <td>₹500</td>\n",
              "    </tr>\n",
              "    <tr>\n",
              "      <th>1</th>\n",
              "      <td>Dr. Meeka Gulati</td>\n",
              "      <td>BDS, MDS - Conservative Dentistry &amp; Endodontics</td>\n",
              "      <td>Dentist</td>\n",
              "      <td>15 years experience overall</td>\n",
              "      <td>Janakpuri,</td>\n",
              "      <td>Delhi</td>\n",
              "      <td>97%</td>\n",
              "      <td>108 Patient Stories</td>\n",
              "      <td>₹500</td>\n",
              "    </tr>\n",
              "    <tr>\n",
              "      <th>2</th>\n",
              "      <td>Dr. Aparna Singhal</td>\n",
              "      <td>BDS, MDS - Prosthodontics</td>\n",
              "      <td>Dentist</td>\n",
              "      <td>14 years experience overall</td>\n",
              "      <td>Punjabi Bagh,</td>\n",
              "      <td>Delhi</td>\n",
              "      <td>98%</td>\n",
              "      <td>96 Patient Stories</td>\n",
              "      <td>₹300</td>\n",
              "    </tr>\n",
              "    <tr>\n",
              "      <th>3</th>\n",
              "      <td>Dr. Prashant Ojha</td>\n",
              "      <td>MDS - Periodontology and Oral Implantology, Ce...</td>\n",
              "      <td>Dentist</td>\n",
              "      <td>16 years experience overall</td>\n",
              "      <td>Saket,</td>\n",
              "      <td>Delhi</td>\n",
              "      <td>92%</td>\n",
              "      <td>104 Patient Stories</td>\n",
              "      <td>₹300</td>\n",
              "    </tr>\n",
              "    <tr>\n",
              "      <th>4</th>\n",
              "      <td>Dr. Anukriti Bansal Aggarwal</td>\n",
              "      <td>BDS</td>\n",
              "      <td>Dentist</td>\n",
              "      <td>10 years experience overall</td>\n",
              "      <td>Rohini Sector 18,</td>\n",
              "      <td>Delhi</td>\n",
              "      <td>100%</td>\n",
              "      <td>74 Patient Stories</td>\n",
              "      <td>₹400</td>\n",
              "    </tr>\n",
              "    <tr>\n",
              "      <th>...</th>\n",
              "      <td>...</td>\n",
              "      <td>...</td>\n",
              "      <td>...</td>\n",
              "      <td>...</td>\n",
              "      <td>...</td>\n",
              "      <td>...</td>\n",
              "      <td>...</td>\n",
              "      <td>...</td>\n",
              "      <td>...</td>\n",
              "    </tr>\n",
              "    <tr>\n",
              "      <th>5053</th>\n",
              "      <td>Dr. Sreesha N</td>\n",
              "      <td>MBBS, MD - Obstetrics &amp; Gynaecology</td>\n",
              "      <td>Dentist</td>\n",
              "      <td>18 years experience overall</td>\n",
              "      <td>Yelahanka New Town,</td>\n",
              "      <td>Bangalore</td>\n",
              "      <td>100%</td>\n",
              "      <td>10 Patient Stories</td>\n",
              "      <td>₹300</td>\n",
              "    </tr>\n",
              "    <tr>\n",
              "      <th>5054</th>\n",
              "      <td>Dr. Roshan Varghese</td>\n",
              "      <td>MBBS, DGO, DNB - Obstetrics &amp; Gynecology, Dipl...</td>\n",
              "      <td>Dentist</td>\n",
              "      <td>14 years experience overall</td>\n",
              "      <td>Horamavu,</td>\n",
              "      <td>Bangalore</td>\n",
              "      <td>100%</td>\n",
              "      <td>55 Patient Stories</td>\n",
              "      <td>₹300</td>\n",
              "    </tr>\n",
              "    <tr>\n",
              "      <th>5055</th>\n",
              "      <td>Dr. Vinayak Raghunathan</td>\n",
              "      <td>MBBS, DGO</td>\n",
              "      <td>Dentist</td>\n",
              "      <td>14 years experience overall</td>\n",
              "      <td>JP Nagar,</td>\n",
              "      <td>Bangalore</td>\n",
              "      <td>100%</td>\n",
              "      <td>145 Patient Stories</td>\n",
              "      <td>₹500</td>\n",
              "    </tr>\n",
              "    <tr>\n",
              "      <th>5056</th>\n",
              "      <td>Dr. Idris Md</td>\n",
              "      <td>MBBS, MS - Obstetrics &amp; Gynaecology, DGO, DNB ...</td>\n",
              "      <td>Dentist</td>\n",
              "      <td>13 years experience overall</td>\n",
              "      <td>Jayanagar 5 Block,</td>\n",
              "      <td>Bangalore</td>\n",
              "      <td>99%</td>\n",
              "      <td>131 Patient Stories</td>\n",
              "      <td>₹300</td>\n",
              "    </tr>\n",
              "    <tr>\n",
              "      <th>5057</th>\n",
              "      <td>Dr. Prahlad Shenava</td>\n",
              "      <td>MBBS, MD - Obstetrics &amp; Gynaecology</td>\n",
              "      <td>Dentist</td>\n",
              "      <td>12 years experience overall</td>\n",
              "      <td>Whitefield,</td>\n",
              "      <td>Bangalore</td>\n",
              "      <td>98%</td>\n",
              "      <td>58 Patient Stories</td>\n",
              "      <td>₹300</td>\n",
              "    </tr>\n",
              "  </tbody>\n",
              "</table>\n",
              "<p>5058 rows × 9 columns</p>\n",
              "</div>\n",
              "      <button class=\"colab-df-convert\" onclick=\"convertToInteractive('df-63f2139c-4d46-428f-a162-e5f67bf1b74c')\"\n",
              "              title=\"Convert this dataframe to an interactive table.\"\n",
              "              style=\"display:none;\">\n",
              "        \n",
              "  <svg xmlns=\"http://www.w3.org/2000/svg\" height=\"24px\"viewBox=\"0 0 24 24\"\n",
              "       width=\"24px\">\n",
              "    <path d=\"M0 0h24v24H0V0z\" fill=\"none\"/>\n",
              "    <path d=\"M18.56 5.44l.94 2.06.94-2.06 2.06-.94-2.06-.94-.94-2.06-.94 2.06-2.06.94zm-11 1L8.5 8.5l.94-2.06 2.06-.94-2.06-.94L8.5 2.5l-.94 2.06-2.06.94zm10 10l.94 2.06.94-2.06 2.06-.94-2.06-.94-.94-2.06-.94 2.06-2.06.94z\"/><path d=\"M17.41 7.96l-1.37-1.37c-.4-.4-.92-.59-1.43-.59-.52 0-1.04.2-1.43.59L10.3 9.45l-7.72 7.72c-.78.78-.78 2.05 0 2.83L4 21.41c.39.39.9.59 1.41.59.51 0 1.02-.2 1.41-.59l7.78-7.78 2.81-2.81c.8-.78.8-2.07 0-2.86zM5.41 20L4 18.59l7.72-7.72 1.47 1.35L5.41 20z\"/>\n",
              "  </svg>\n",
              "      </button>\n",
              "      \n",
              "  <style>\n",
              "    .colab-df-container {\n",
              "      display:flex;\n",
              "      flex-wrap:wrap;\n",
              "      gap: 12px;\n",
              "    }\n",
              "\n",
              "    .colab-df-convert {\n",
              "      background-color: #E8F0FE;\n",
              "      border: none;\n",
              "      border-radius: 50%;\n",
              "      cursor: pointer;\n",
              "      display: none;\n",
              "      fill: #1967D2;\n",
              "      height: 32px;\n",
              "      padding: 0 0 0 0;\n",
              "      width: 32px;\n",
              "    }\n",
              "\n",
              "    .colab-df-convert:hover {\n",
              "      background-color: #E2EBFA;\n",
              "      box-shadow: 0px 1px 2px rgba(60, 64, 67, 0.3), 0px 1px 3px 1px rgba(60, 64, 67, 0.15);\n",
              "      fill: #174EA6;\n",
              "    }\n",
              "\n",
              "    [theme=dark] .colab-df-convert {\n",
              "      background-color: #3B4455;\n",
              "      fill: #D2E3FC;\n",
              "    }\n",
              "\n",
              "    [theme=dark] .colab-df-convert:hover {\n",
              "      background-color: #434B5C;\n",
              "      box-shadow: 0px 1px 3px 1px rgba(0, 0, 0, 0.15);\n",
              "      filter: drop-shadow(0px 1px 2px rgba(0, 0, 0, 0.3));\n",
              "      fill: #FFFFFF;\n",
              "    }\n",
              "  </style>\n",
              "\n",
              "      <script>\n",
              "        const buttonEl =\n",
              "          document.querySelector('#df-63f2139c-4d46-428f-a162-e5f67bf1b74c button.colab-df-convert');\n",
              "        buttonEl.style.display =\n",
              "          google.colab.kernel.accessAllowed ? 'block' : 'none';\n",
              "\n",
              "        async function convertToInteractive(key) {\n",
              "          const element = document.querySelector('#df-63f2139c-4d46-428f-a162-e5f67bf1b74c');\n",
              "          const dataTable =\n",
              "            await google.colab.kernel.invokeFunction('convertToInteractive',\n",
              "                                                     [key], {});\n",
              "          if (!dataTable) return;\n",
              "\n",
              "          const docLinkHtml = 'Like what you see? Visit the ' +\n",
              "            '<a target=\"_blank\" href=https://colab.research.google.com/notebooks/data_table.ipynb>data table notebook</a>'\n",
              "            + ' to learn more about interactive tables.';\n",
              "          element.innerHTML = '';\n",
              "          dataTable['output_type'] = 'display_data';\n",
              "          await google.colab.output.renderOutput(dataTable, element);\n",
              "          const docLink = document.createElement('div');\n",
              "          docLink.innerHTML = docLinkHtml;\n",
              "          element.appendChild(docLink);\n",
              "        }\n",
              "      </script>\n",
              "    </div>\n",
              "  </div>\n",
              "  "
            ]
          },
          "metadata": {},
          "execution_count": 5
        }
      ]
    },
    {
      "cell_type": "code",
      "source": [
        "for column in df.columns:\n",
        "  print(df[column].value_counts())\n",
        "  print(\"-\"*20)"
      ],
      "metadata": {
        "colab": {
          "base_uri": "https://localhost:8080/"
        },
        "id": "EXorXwlSgQoe",
        "outputId": "0eca3aed-6b70-44a0-978a-7c63e12e8a59"
      },
      "execution_count": 6,
      "outputs": [
        {
          "output_type": "stream",
          "name": "stdout",
          "text": [
            "Dr. Mutyalatha Koppula                    6\n",
            "Dr. Garima Sharma                         5\n",
            "Dr. Pannam Sharma                         4\n",
            "Dr. Bandana Sodhi                         4\n",
            "Dr. Rashmi Naik N                         4\n",
            "                                         ..\n",
            "Dr. Munira Mamnoon   (Physiotherapist)    1\n",
            "Dr. Ajay   (Physiotherapist)              1\n",
            "Dr. Rajani Patil   (Physiotherapist)      1\n",
            "Dr. Kunjal Shah   (Physiotherapist)       1\n",
            "Dr. Prahlad Shenava                       1\n",
            "Name: Name, Length: 4241, dtype: int64\n",
            "--------------------\n",
            "BDS                                                            343\n",
            "MBBS, MD - Obstetrics & Gynaecology                            217\n",
            "MBBS, MS - Obstetrics & Gynaecology                            201\n",
            "MBBS, MS - Orthopaedics                                        187\n",
            "MBBS, MD - Pediatrics                                          172\n",
            "                                                              ... \n",
            "MBBS, MCh - Urology                                              1\n",
            "MBBS, MD - Psychological Medicine                                1\n",
            "M.D. (Psychiatry), MBBS, DNB - Psychiatry                        1\n",
            "MBBS, DM - Cardiology, MRCP (UK)                                 1\n",
            "BDS, MDS - Orthodontics and Dentofacial Orthopaedics, MOrth      1\n",
            "Name: Degree, Length: 929, dtype: int64\n",
            "--------------------\n",
            "Dentist                      826\n",
            "Gynecologist/Obstetrician    747\n",
            "Pediatrician                 467\n",
            "Orthopedist                  435\n",
            "Infertility Specialist       400\n",
            "Dermatologist                362\n",
            "Physiotherapist              293\n",
            "Ophthalmologist              277\n",
            "Cardiologist                 196\n",
            "Psychiatrist                 165\n",
            "Urologist                    153\n",
            "Gastroenterologist           131\n",
            "Dietitian/Nutritionist       129\n",
            "Neurosurgeon                 119\n",
            "Neurologist                  106\n",
            "Pulmonologist                 98\n",
            "Bariatric Surgeon             78\n",
            "Rheumatologist                41\n",
            "Chiropractor                   8\n",
            "Name: Specialization, dtype: int64\n",
            "--------------------\n",
            "14 years experience overall    294\n",
            "12 years experience overall    293\n",
            "13 years experience overall    269\n",
            "11 years experience overall    238\n",
            "16 years experience overall    236\n",
            "                              ... \n",
            "60 years experience overall      2\n",
            "63 years experience overall      1\n",
            "61 years experience overall      1\n",
            "58 years experience overall      1\n",
            "57 years experience overall      1\n",
            "Name: Experience, Length: 61, dtype: int64\n",
            "--------------------\n",
            "Whitefield,           127\n",
            "Bannerghatta Road,    125\n",
            "Sarita Vihar,         124\n",
            "Indiranagar,          105\n",
            "HSR Layout,           104\n",
            "                     ... \n",
            "Bandra,                 1\n",
            "Subhash Nagar,          1\n",
            "Kalina,                 1\n",
            "Patel Nagar,            1\n",
            "Khanpur,                1\n",
            "Name: Location, Length: 403, dtype: int64\n",
            "--------------------\n",
            "Bangalore    2049\n",
            "Delhi        1674\n",
            "Mumbai       1318\n",
            "Name: City, dtype: int64\n",
            "--------------------\n",
            "100%    1554\n",
            "99%      402\n",
            "98%      400\n",
            "97%      338\n",
            "96%      234\n",
            "        ... \n",
            "37%        1\n",
            "52%        1\n",
            "47%        1\n",
            "20%        1\n",
            "58%        1\n",
            "Name: Recommendation, Length: 61, dtype: int64\n",
            "--------------------\n",
            "1 Patient Story         277\n",
            "2 Patient Stories       202\n",
            "3 Patient Stories       162\n",
            "5 Patient Stories       140\n",
            "6 Patient Stories       131\n",
            "                       ... \n",
            "388 Patient Stories       1\n",
            "1423 Patient Stories      1\n",
            "381 Patient Stories       1\n",
            "173 Patient Stories       1\n",
            "1122 Patient Stories      1\n",
            "Name: Feedback, Length: 391, dtype: int64\n",
            "--------------------\n",
            "₹1000    624\n",
            "₹500     616\n",
            "₹800     461\n",
            "₹600     399\n",
            "₹1500    374\n",
            "        ... \n",
            "₹480       1\n",
            "₹670       1\n",
            "₹1900      1\n",
            "₹4100      1\n",
            "₹669       1\n",
            "Name: Fees, Length: 73, dtype: int64\n",
            "--------------------\n"
          ]
        }
      ]
    },
    {
      "cell_type": "code",
      "source": [
        "degree_count = df['Degree'].value_counts()\n",
        "degree_count_less_10 = degree_count[degree_count <=10]\n",
        "df['Degree'] = df['Degree'].apply(lambda x: 'other' if x in degree_count_less_10 else x)"
      ],
      "metadata": {
        "id": "pkmkOhA1XcXS"
      },
      "execution_count": null,
      "outputs": []
    },
    {
      "cell_type": "code",
      "source": [
        "Location_count = df['Location'].value_counts()\n",
        "Location_count_less_10 = Location_count[Location_count <=10]\n",
        "df['Location'] = df['Location'].apply(lambda x: 'other' if x in Location_count_less_10 else x)"
      ],
      "metadata": {
        "id": "QqnVlRmUbOXq"
      },
      "execution_count": null,
      "outputs": []
    },
    {
      "cell_type": "code",
      "source": [
        "df['Location'].value_counts()"
      ],
      "metadata": {
        "colab": {
          "base_uri": "https://localhost:8080/"
        },
        "id": "nCPaKw3AbIBC",
        "outputId": "75984498-41da-45ac-ac40-2947c154ea67"
      },
      "execution_count": null,
      "outputs": [
        {
          "output_type": "execute_result",
          "data": {
            "text/plain": [
              "other                 1011\n",
              "Whitefield             126\n",
              "Sarita Vihar           124\n",
              "Bannerghatta Road      124\n",
              "Indiranagar            105\n",
              "                      ... \n",
              "Kumaraswamy Layout      11\n",
              "Andheri                 11\n",
              "Opera House             11\n",
              "RT Nagar                11\n",
              "Hulimavu                11\n",
              "Name: Location, Length: 107, dtype: int64"
            ]
          },
          "metadata": {},
          "execution_count": 42
        }
      ]
    },
    {
      "cell_type": "code",
      "source": [
        "df.drop(columns='Name', inplace=True)"
      ],
      "metadata": {
        "id": "mtaKBWbMh92m"
      },
      "execution_count": null,
      "outputs": []
    },
    {
      "cell_type": "code",
      "source": [
        "df.head()"
      ],
      "metadata": {
        "colab": {
          "base_uri": "https://localhost:8080/",
          "height": 206
        },
        "id": "PPJtCS_ah6Jm",
        "outputId": "cb6da806-eb0c-4834-e93c-d0dba79396a1"
      },
      "execution_count": null,
      "outputs": [
        {
          "output_type": "execute_result",
          "data": {
            "text/plain": [
              "  Degree Specialization  Experience          Location   City  Recommendation  \\\n",
              "0    BDS        Dentist          17      Vasant Vihar  Delhi              99   \n",
              "1    BDS        Dentist          15         Janakpuri  Delhi              97   \n",
              "2    BDS        Dentist          14      Punjabi Bagh  Delhi              98   \n",
              "3    MDS        Dentist          16             Saket  Delhi              92   \n",
              "4    BDS        Dentist          10  Rohini Sector 18  Delhi              10   \n",
              "\n",
              "   Feedback  Fees  \n",
              "0       623   500  \n",
              "1       108   500  \n",
              "2        96   300  \n",
              "3       104   300  \n",
              "4        74   400  "
            ],
            "text/html": [
              "\n",
              "  <div id=\"df-c01ee1ec-9f76-461b-aa56-a0bb997cba20\">\n",
              "    <div class=\"colab-df-container\">\n",
              "      <div>\n",
              "<style scoped>\n",
              "    .dataframe tbody tr th:only-of-type {\n",
              "        vertical-align: middle;\n",
              "    }\n",
              "\n",
              "    .dataframe tbody tr th {\n",
              "        vertical-align: top;\n",
              "    }\n",
              "\n",
              "    .dataframe thead th {\n",
              "        text-align: right;\n",
              "    }\n",
              "</style>\n",
              "<table border=\"1\" class=\"dataframe\">\n",
              "  <thead>\n",
              "    <tr style=\"text-align: right;\">\n",
              "      <th></th>\n",
              "      <th>Degree</th>\n",
              "      <th>Specialization</th>\n",
              "      <th>Experience</th>\n",
              "      <th>Location</th>\n",
              "      <th>City</th>\n",
              "      <th>Recommendation</th>\n",
              "      <th>Feedback</th>\n",
              "      <th>Fees</th>\n",
              "    </tr>\n",
              "  </thead>\n",
              "  <tbody>\n",
              "    <tr>\n",
              "      <th>0</th>\n",
              "      <td>BDS</td>\n",
              "      <td>Dentist</td>\n",
              "      <td>17</td>\n",
              "      <td>Vasant Vihar</td>\n",
              "      <td>Delhi</td>\n",
              "      <td>99</td>\n",
              "      <td>623</td>\n",
              "      <td>500</td>\n",
              "    </tr>\n",
              "    <tr>\n",
              "      <th>1</th>\n",
              "      <td>BDS</td>\n",
              "      <td>Dentist</td>\n",
              "      <td>15</td>\n",
              "      <td>Janakpuri</td>\n",
              "      <td>Delhi</td>\n",
              "      <td>97</td>\n",
              "      <td>108</td>\n",
              "      <td>500</td>\n",
              "    </tr>\n",
              "    <tr>\n",
              "      <th>2</th>\n",
              "      <td>BDS</td>\n",
              "      <td>Dentist</td>\n",
              "      <td>14</td>\n",
              "      <td>Punjabi Bagh</td>\n",
              "      <td>Delhi</td>\n",
              "      <td>98</td>\n",
              "      <td>96</td>\n",
              "      <td>300</td>\n",
              "    </tr>\n",
              "    <tr>\n",
              "      <th>3</th>\n",
              "      <td>MDS</td>\n",
              "      <td>Dentist</td>\n",
              "      <td>16</td>\n",
              "      <td>Saket</td>\n",
              "      <td>Delhi</td>\n",
              "      <td>92</td>\n",
              "      <td>104</td>\n",
              "      <td>300</td>\n",
              "    </tr>\n",
              "    <tr>\n",
              "      <th>4</th>\n",
              "      <td>BDS</td>\n",
              "      <td>Dentist</td>\n",
              "      <td>10</td>\n",
              "      <td>Rohini Sector 18</td>\n",
              "      <td>Delhi</td>\n",
              "      <td>10</td>\n",
              "      <td>74</td>\n",
              "      <td>400</td>\n",
              "    </tr>\n",
              "  </tbody>\n",
              "</table>\n",
              "</div>\n",
              "      <button class=\"colab-df-convert\" onclick=\"convertToInteractive('df-c01ee1ec-9f76-461b-aa56-a0bb997cba20')\"\n",
              "              title=\"Convert this dataframe to an interactive table.\"\n",
              "              style=\"display:none;\">\n",
              "        \n",
              "  <svg xmlns=\"http://www.w3.org/2000/svg\" height=\"24px\"viewBox=\"0 0 24 24\"\n",
              "       width=\"24px\">\n",
              "    <path d=\"M0 0h24v24H0V0z\" fill=\"none\"/>\n",
              "    <path d=\"M18.56 5.44l.94 2.06.94-2.06 2.06-.94-2.06-.94-.94-2.06-.94 2.06-2.06.94zm-11 1L8.5 8.5l.94-2.06 2.06-.94-2.06-.94L8.5 2.5l-.94 2.06-2.06.94zm10 10l.94 2.06.94-2.06 2.06-.94-2.06-.94-.94-2.06-.94 2.06-2.06.94z\"/><path d=\"M17.41 7.96l-1.37-1.37c-.4-.4-.92-.59-1.43-.59-.52 0-1.04.2-1.43.59L10.3 9.45l-7.72 7.72c-.78.78-.78 2.05 0 2.83L4 21.41c.39.39.9.59 1.41.59.51 0 1.02-.2 1.41-.59l7.78-7.78 2.81-2.81c.8-.78.8-2.07 0-2.86zM5.41 20L4 18.59l7.72-7.72 1.47 1.35L5.41 20z\"/>\n",
              "  </svg>\n",
              "      </button>\n",
              "      \n",
              "  <style>\n",
              "    .colab-df-container {\n",
              "      display:flex;\n",
              "      flex-wrap:wrap;\n",
              "      gap: 12px;\n",
              "    }\n",
              "\n",
              "    .colab-df-convert {\n",
              "      background-color: #E8F0FE;\n",
              "      border: none;\n",
              "      border-radius: 50%;\n",
              "      cursor: pointer;\n",
              "      display: none;\n",
              "      fill: #1967D2;\n",
              "      height: 32px;\n",
              "      padding: 0 0 0 0;\n",
              "      width: 32px;\n",
              "    }\n",
              "\n",
              "    .colab-df-convert:hover {\n",
              "      background-color: #E2EBFA;\n",
              "      box-shadow: 0px 1px 2px rgba(60, 64, 67, 0.3), 0px 1px 3px 1px rgba(60, 64, 67, 0.15);\n",
              "      fill: #174EA6;\n",
              "    }\n",
              "\n",
              "    [theme=dark] .colab-df-convert {\n",
              "      background-color: #3B4455;\n",
              "      fill: #D2E3FC;\n",
              "    }\n",
              "\n",
              "    [theme=dark] .colab-df-convert:hover {\n",
              "      background-color: #434B5C;\n",
              "      box-shadow: 0px 1px 3px 1px rgba(0, 0, 0, 0.15);\n",
              "      filter: drop-shadow(0px 1px 2px rgba(0, 0, 0, 0.3));\n",
              "      fill: #FFFFFF;\n",
              "    }\n",
              "  </style>\n",
              "\n",
              "      <script>\n",
              "        const buttonEl =\n",
              "          document.querySelector('#df-c01ee1ec-9f76-461b-aa56-a0bb997cba20 button.colab-df-convert');\n",
              "        buttonEl.style.display =\n",
              "          google.colab.kernel.accessAllowed ? 'block' : 'none';\n",
              "\n",
              "        async function convertToInteractive(key) {\n",
              "          const element = document.querySelector('#df-c01ee1ec-9f76-461b-aa56-a0bb997cba20');\n",
              "          const dataTable =\n",
              "            await google.colab.kernel.invokeFunction('convertToInteractive',\n",
              "                                                     [key], {});\n",
              "          if (!dataTable) return;\n",
              "\n",
              "          const docLinkHtml = 'Like what you see? Visit the ' +\n",
              "            '<a target=\"_blank\" href=https://colab.research.google.com/notebooks/data_table.ipynb>data table notebook</a>'\n",
              "            + ' to learn more about interactive tables.';\n",
              "          element.innerHTML = '';\n",
              "          dataTable['output_type'] = 'display_data';\n",
              "          await google.colab.output.renderOutput(dataTable, element);\n",
              "          const docLink = document.createElement('div');\n",
              "          docLink.innerHTML = docLinkHtml;\n",
              "          element.appendChild(docLink);\n",
              "        }\n",
              "      </script>\n",
              "    </div>\n",
              "  </div>\n",
              "  "
            ]
          },
          "metadata": {},
          "execution_count": 13
        }
      ]
    },
    {
      "cell_type": "code",
      "source": [
        "X= df.drop(columns='Fees')\n",
        "Y = df['Fees']"
      ],
      "metadata": {
        "id": "4y_4qRXgh9CO"
      },
      "execution_count": null,
      "outputs": []
    },
    {
      "cell_type": "code",
      "source": [
        "from sklearn.model_selection import train_test_split\n",
        "from sklearn.linear_model import LinearRegression, Lasso, Ridge\n",
        "from sklearn.preprocessing import OneHotEncoder, StandardScaler\n",
        "from sklearn.compose import make_column_transformer\n",
        "from sklearn.pipeline import make_pipeline\n",
        "from sklearn.metrics import r2_score"
      ],
      "metadata": {
        "id": "0St6723iidhe"
      },
      "execution_count": null,
      "outputs": []
    },
    {
      "cell_type": "code",
      "source": [
        "X_train,X_test,Y_train,Y_test =train_test_split(X,Y, test_size=0.2,random_state=45)"
      ],
      "metadata": {
        "id": "Beh9u3jFjEIR"
      },
      "execution_count": null,
      "outputs": []
    },
    {
      "cell_type": "code",
      "source": [
        "X_train.shape"
      ],
      "metadata": {
        "colab": {
          "base_uri": "https://localhost:8080/"
        },
        "id": "4PVrvB_LkCDF",
        "outputId": "78caa92c-bfb9-4dbe-b956-8a0cbf27a82d"
      },
      "execution_count": null,
      "outputs": [
        {
          "output_type": "execute_result",
          "data": {
            "text/plain": [
              "(4021, 7)"
            ]
          },
          "metadata": {},
          "execution_count": 46
        }
      ]
    },
    {
      "cell_type": "code",
      "source": [
        "Y_train.shape"
      ],
      "metadata": {
        "colab": {
          "base_uri": "https://localhost:8080/"
        },
        "id": "ugUCvrvkkI39",
        "outputId": "3e0a0c89-8322-4583-ad7d-da5260128788"
      },
      "execution_count": null,
      "outputs": [
        {
          "output_type": "execute_result",
          "data": {
            "text/plain": [
              "(4021,)"
            ]
          },
          "metadata": {},
          "execution_count": 47
        }
      ]
    },
    {
      "cell_type": "markdown",
      "source": [
        "Apply Linear Regression"
      ],
      "metadata": {
        "id": "d2h78Rqpjyh-"
      }
    },
    {
      "cell_type": "code",
      "source": [
        "column_trans = make_column_transformer((OneHotEncoder(sparse=False),['Degree',\t'Specialization','Location',\t'City']))"
      ],
      "metadata": {
        "id": "Sdzb43t4jw41"
      },
      "execution_count": null,
      "outputs": []
    },
    {
      "cell_type": "code",
      "source": [
        "column_trans"
      ],
      "metadata": {
        "colab": {
          "base_uri": "https://localhost:8080/"
        },
        "id": "Zzbsgf7xW-Or",
        "outputId": "bc2a14b5-9fe7-4e40-9336-77972dd466e8"
      },
      "execution_count": null,
      "outputs": [
        {
          "output_type": "execute_result",
          "data": {
            "text/plain": [
              "ColumnTransformer(transformers=[('onehotencoder', OneHotEncoder(sparse=False),\n",
              "                                 ['Degree', 'Specialization', 'Location',\n",
              "                                  'City'])])"
            ]
          },
          "metadata": {},
          "execution_count": 49
        }
      ]
    },
    {
      "cell_type": "code",
      "source": [
        "scaler = StandardScaler()"
      ],
      "metadata": {
        "id": "DuZI7_2jkn20"
      },
      "execution_count": null,
      "outputs": []
    },
    {
      "cell_type": "code",
      "source": [
        "lr = LinearRegression(normalize=True)"
      ],
      "metadata": {
        "id": "qeoG8kfkktAn"
      },
      "execution_count": null,
      "outputs": []
    },
    {
      "cell_type": "code",
      "source": [
        "pipe =make_pipeline(column_trans,scaler,lr)"
      ],
      "metadata": {
        "id": "Mvo8247xk1Ll"
      },
      "execution_count": null,
      "outputs": []
    },
    {
      "cell_type": "code",
      "source": [
        "pipe.fit(X_train,Y_train)"
      ],
      "metadata": {
        "colab": {
          "base_uri": "https://localhost:8080/"
        },
        "id": "V_JSrHuxk8TN",
        "outputId": "b89d22b1-edd5-4976-dd4f-c0842946ef5e"
      },
      "execution_count": null,
      "outputs": [
        {
          "output_type": "stream",
          "name": "stderr",
          "text": [
            "/usr/local/lib/python3.8/dist-packages/sklearn/linear_model/_base.py:141: FutureWarning: 'normalize' was deprecated in version 1.0 and will be removed in 1.2.\n",
            "If you wish to scale the data, use Pipeline with a StandardScaler in a preprocessing stage. To reproduce the previous behavior:\n",
            "\n",
            "from sklearn.pipeline import make_pipeline\n",
            "\n",
            "model = make_pipeline(StandardScaler(with_mean=False), LinearRegression())\n",
            "\n",
            "If you wish to pass a sample_weight parameter, you need to pass it as a fit parameter to each step of the pipeline as follows:\n",
            "\n",
            "kwargs = {s[0] + '__sample_weight': sample_weight for s in model.steps}\n",
            "model.fit(X, y, **kwargs)\n",
            "\n",
            "\n",
            "  warnings.warn(\n"
          ]
        },
        {
          "output_type": "execute_result",
          "data": {
            "text/plain": [
              "Pipeline(steps=[('columntransformer',\n",
              "                 ColumnTransformer(transformers=[('onehotencoder',\n",
              "                                                  OneHotEncoder(sparse=False),\n",
              "                                                  ['Degree', 'Specialization',\n",
              "                                                   'Location', 'City'])])),\n",
              "                ('standardscaler', StandardScaler()),\n",
              "                ('linearregression', LinearRegression(normalize=True))])"
            ]
          },
          "metadata": {},
          "execution_count": 53
        }
      ]
    },
    {
      "cell_type": "code",
      "source": [
        "Y_pred_lr= pipe.predict(X_test)"
      ],
      "metadata": {
        "id": "wIkpUIP8lLG1"
      },
      "execution_count": null,
      "outputs": []
    },
    {
      "cell_type": "code",
      "source": [
        "r2_score(Y_test,Y_pred_lr)"
      ],
      "metadata": {
        "colab": {
          "base_uri": "https://localhost:8080/"
        },
        "id": "fLROpSLcb-qq",
        "outputId": "2f42a8a7-25a8-4de0-9783-4bd5ae21cf26"
      },
      "execution_count": null,
      "outputs": [
        {
          "output_type": "execute_result",
          "data": {
            "text/plain": [
              "0.535325133815034"
            ]
          },
          "metadata": {},
          "execution_count": 56
        }
      ]
    },
    {
      "cell_type": "markdown",
      "source": [
        "Applying Lasso"
      ],
      "metadata": {
        "id": "-qq59NSAcPhh"
      }
    },
    {
      "cell_type": "code",
      "source": [
        "lasso =Lasso()"
      ],
      "metadata": {
        "id": "dxJNthVXcK8i"
      },
      "execution_count": null,
      "outputs": []
    },
    {
      "cell_type": "code",
      "source": [
        "pipe = make_pipeline(column_trans,scaler, lasso)"
      ],
      "metadata": {
        "id": "9YewGXuycWWZ"
      },
      "execution_count": null,
      "outputs": []
    },
    {
      "cell_type": "code",
      "source": [
        "pipe.fit(X_train,Y_train)"
      ],
      "metadata": {
        "colab": {
          "base_uri": "https://localhost:8080/"
        },
        "id": "Dvk7l3cGcfZx",
        "outputId": "f47e0e35-3f6d-4daa-cfa5-25d693b4f222"
      },
      "execution_count": null,
      "outputs": [
        {
          "output_type": "execute_result",
          "data": {
            "text/plain": [
              "Pipeline(steps=[('columntransformer',\n",
              "                 ColumnTransformer(transformers=[('onehotencoder',\n",
              "                                                  OneHotEncoder(sparse=False),\n",
              "                                                  ['Degree', 'Specialization',\n",
              "                                                   'Location', 'City'])])),\n",
              "                ('standardscaler', StandardScaler()), ('lasso', Lasso())])"
            ]
          },
          "metadata": {},
          "execution_count": 60
        }
      ]
    },
    {
      "cell_type": "code",
      "source": [
        "Y_pred_lasso = pipe.predict(X_test)"
      ],
      "metadata": {
        "id": "dMlZByuocfQZ"
      },
      "execution_count": null,
      "outputs": []
    },
    {
      "cell_type": "code",
      "source": [
        "r2_score(Y_test,Y_pred_lasso)"
      ],
      "metadata": {
        "colab": {
          "base_uri": "https://localhost:8080/"
        },
        "id": "RozCBYXmczIJ",
        "outputId": "03778691-c0dc-49ec-d32f-da0369beaeb0"
      },
      "execution_count": null,
      "outputs": [
        {
          "output_type": "execute_result",
          "data": {
            "text/plain": [
              "0.5366070468728203"
            ]
          },
          "metadata": {},
          "execution_count": 62
        }
      ]
    },
    {
      "cell_type": "markdown",
      "source": [
        "Applying Ridge"
      ],
      "metadata": {
        "id": "KnzNreeVc6nB"
      }
    },
    {
      "cell_type": "code",
      "source": [
        "ridge =Ridge()"
      ],
      "metadata": {
        "id": "l7l-7vMNc8xh"
      },
      "execution_count": null,
      "outputs": []
    },
    {
      "cell_type": "code",
      "source": [
        "pipe = make_pipeline(column_trans,scaler, ridge)"
      ],
      "metadata": {
        "id": "1xKpw5YGdBbQ"
      },
      "execution_count": null,
      "outputs": []
    },
    {
      "cell_type": "code",
      "source": [
        "pipe.fit(X_train,Y_train)"
      ],
      "metadata": {
        "colab": {
          "base_uri": "https://localhost:8080/"
        },
        "id": "UQCaz5pAdFKh",
        "outputId": "3baa3442-231e-41ce-a8dd-dd2903f0b6e3"
      },
      "execution_count": null,
      "outputs": [
        {
          "output_type": "execute_result",
          "data": {
            "text/plain": [
              "Pipeline(steps=[('columntransformer',\n",
              "                 ColumnTransformer(transformers=[('onehotencoder',\n",
              "                                                  OneHotEncoder(sparse=False),\n",
              "                                                  ['Degree', 'Specialization',\n",
              "                                                   'Location', 'City'])])),\n",
              "                ('standardscaler', StandardScaler()), ('ridge', Ridge())])"
            ]
          },
          "metadata": {},
          "execution_count": 65
        }
      ]
    },
    {
      "cell_type": "code",
      "source": [
        "Y_pred_ridge = pipe.predict(X_test)"
      ],
      "metadata": {
        "id": "9GA1Q_5MdIQg"
      },
      "execution_count": null,
      "outputs": []
    },
    {
      "cell_type": "code",
      "source": [
        "r2_score(Y_test,Y_pred_ridge)"
      ],
      "metadata": {
        "colab": {
          "base_uri": "https://localhost:8080/"
        },
        "id": "kYztR4ISdOIp",
        "outputId": "b1241ca3-2d20-4ec5-e0fa-c3f38ba69db1"
      },
      "execution_count": null,
      "outputs": [
        {
          "output_type": "execute_result",
          "data": {
            "text/plain": [
              "0.5346153321724705"
            ]
          },
          "metadata": {},
          "execution_count": 67
        }
      ]
    },
    {
      "cell_type": "code",
      "source": [
        "print(\"Linear Regression\", r2_score(Y_test,Y_pred_lr))\n",
        "print(\"Lasso\", r2_score(Y_test,Y_pred_lasso))\n",
        "print(\"Ridge\", r2_score(Y_test,Y_pred_ridge))"
      ],
      "metadata": {
        "colab": {
          "base_uri": "https://localhost:8080/"
        },
        "id": "DPV8VW2LdZi5",
        "outputId": "e40d733e-3a6a-4765-e7b1-1e1463b7cc06"
      },
      "execution_count": null,
      "outputs": [
        {
          "output_type": "stream",
          "name": "stdout",
          "text": [
            "Linear Regression 0.535325133815034\n",
            "Lasso 0.5366070468728203\n",
            "Ridge 0.5346153321724705\n"
          ]
        }
      ]
    },
    {
      "cell_type": "code",
      "source": [
        "import pickle"
      ],
      "metadata": {
        "id": "7bDDBxVzdu_Q"
      },
      "execution_count": null,
      "outputs": []
    },
    {
      "cell_type": "code",
      "source": [
        "pickle.dump(pipe, open('RidgeModel.pkl','wb'))"
      ],
      "metadata": {
        "id": "syXOPCchdyEw"
      },
      "execution_count": null,
      "outputs": []
    }
  ]
}